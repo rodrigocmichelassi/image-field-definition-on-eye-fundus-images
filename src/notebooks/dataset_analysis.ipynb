{
 "cells": [
  {
   "cell_type": "markdown",
   "id": "be5fac62",
   "metadata": {},
   "source": [
    "### BRSet dataset analysis\n",
    "\n",
    "This BRSet analysis is conducted based on results obtained from running our models and nasal/temporal distance calculations on the dataset, previously, based on Optic Disc and Fovea coordinates, inferred from our YOLO models."
   ]
  },
  {
   "cell_type": "code",
   "execution_count": null,
   "id": "99702941",
   "metadata": {
    "vscode": {
     "languageId": "plaintext"
    }
   },
   "outputs": [],
   "source": [
    "import argparse\n",
    "import numpy as np\n",
    "import pandas as pd\n",
    "from matplotlib import pyplot as plt\n",
    "\n",
    "def normalizeDistances(df):\n",
    "    df['temporal_distance_normalized'] = df['temporal_distance'] / df['disc_diameter']\n",
    "    df['nasal_distance_normalized'] = df['nasal_distance'] / df['disc_diameter']\n",
    "\n",
    "    return df\n",
    "\n",
    "def main(args):\n",
    "    df = pd.read_csv(args.data)\n",
    "\n",
    "    countAdequate = df[df['quality_label'] == 'Adequate'].shape[0]\n",
    "    countInadequate = df[df['quality_label'] == 'Inadequate'].shape[0]\n",
    "\n",
    "    # images our model was not able to detect fovea or optic disc\n",
    "    missingImages = args.dataset_size - (countAdequate + countInadequate)\n",
    "\n",
    "    df = normalizeDistances(df)\n",
    "    \n",
    "\n",
    "if __name__ == \"__main__\":\n",
    "    parser = argparse.ArgumentParser(description=\"Create dataset analysis for BRSet\")\n",
    "\n",
    "    parser.add_argument('--dataset-size', type=int, default=16266, help='Total images on the dataset')\n",
    "    parser.add_argument('--data', type=str, default='/home/rodrigocm/research/YOLO-on-fundus-images/data/retinalInformation.csv', help='data path for statistical analysis')\n",
    "\n",
    "    args = parser.parse_args()\n",
    "\n",
    "    main(args)"
   ]
  },
  {
   "cell_type": "code",
   "execution_count": null,
   "id": "5413dd3a",
   "metadata": {
    "vscode": {
     "languageId": "plaintext"
    }
   },
   "outputs": [],
   "source": [
    "import argparse\n",
    "import numpy as np\n",
    "import pandas as pd\n",
    "from matplotlib import pyplot as plt"
   ]
  }
 ],
 "metadata": {
  "language_info": {
   "name": "python"
  }
 },
 "nbformat": 4,
 "nbformat_minor": 5
}
